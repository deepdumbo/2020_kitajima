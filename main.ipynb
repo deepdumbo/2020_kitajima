{
 "cells": [
  {
   "cell_type": "code",
   "execution_count": 2,
   "metadata": {},
   "outputs": [
    {
     "output_type": "error",
     "ename": "NameError",
     "evalue": "name &#39;cdl&#39; is not defined",
     "traceback": [
      "\u001b[1;31m---------------------------------------------------------------------------\u001b[0m",
      "\u001b[1;31mNameError\u001b[0m                                 Traceback (most recent call last)",
      "\u001b[1;32m&lt;ipython-input-2-6f5e2b2c082f&gt;\u001b[0m in \u001b[0;36m&lt;module&gt;\u001b[1;34m\u001b[0m\n\u001b[0;32m      1\u001b[0m \u001b[1;32mimport\u001b[0m \u001b[0mimportlib\u001b[0m\u001b[1;33m\u001b[0m\u001b[1;33m\u001b[0m\u001b[0m\n\u001b[1;32m----&gt; 2\u001b[1;33m \u001b[0mimportlib\u001b[0m\u001b[1;33m.\u001b[0m\u001b[0mreload\u001b[0m\u001b[1;33m(\u001b[0m\u001b[0mcdl\u001b[0m\u001b[1;33m)\u001b[0m\u001b[1;33m\u001b[0m\u001b[1;33m\u001b[0m\u001b[0m\n\u001b[0m",
      "\u001b[1;31mNameError\u001b[0m: name &#39;cdl&#39; is not defined"
     ]
    }
   ],
   "source": [
    "import importlib\n",
    "importlib.reload(cdl)"
   ]
  },
  {
   "cell_type": "code",
   "execution_count": 18,
   "metadata": {},
   "outputs": [],
   "source": [
    "#!/usr/bin/env python3\n",
    "# -*- coding: utf-8 -*-\n",
    "\n",
    "import numpy as np\n",
    "import time\n",
    "#from load_dataset import load_mnist_test, load_mnist_train\n",
    "#from load_dataset import load_fashion_test, load_fashion_train\n",
    "import load_dataset as data\n",
    "#from conduct_svm import svm\n",
    "import Convert as con\n",
    "import ConvDL as cdl\n",
    "import conduct_svm as svm\n",
    "import conduct_pooling as cp\n",
    "import output as op\n",
    "import random"
   ]
  },
  {
   "cell_type": "code",
   "execution_count": 19,
   "metadata": {
    "tags": []
   },
   "outputs": [
    {
     "output_type": "stream",
     "name": "stdout",
     "text": [
      "(2414, 1024)\n(2414, 1)\n"
     ]
    }
   ],
   "source": [
    "train_amount = 48\n",
    "\n",
    "import scipy.io as sio\n",
    "mat_contents = sio.loadmat(\"./YaleB_32x32.mat\", appendmat=True)\n",
    "# 今回はきれいにデータが整理されている31クラスを使用する\n",
    "img = mat_contents.get(\"fea\")\n",
    "label = mat_contents.get(\"gnd\")\n",
    "print(img.shape)\n",
    "print(label.shape)\n",
    "\n",
    "u, cnt = np.unique(label, return_counts=True)\n",
    "id_label = []\n",
    "prev = 0\n",
    "for i in cnt:\n",
    "    id_label.append(prev + i)\n",
    "    prev += i\n",
    "\n",
    "ids_used = []\n",
    "prev = 0\n",
    "for i in np.array(id_label)[cnt==64]:\n",
    "    # print(i)\n",
    "    start = i * 64 - 1\n",
    "    a = np.arange(i-64, i)\n",
    "    # print(a)\n",
    "    ids_used.append(a)\n",
    "    prev = i\n",
    "\n",
    "ids_used = np.concatenate(ids_used)\n",
    "\n",
    "img = img[ids_used].T.reshape(32, 32, 31, 64)\n",
    "label = label[ids_used].reshape(31, 64)\n",
    "# print(S.shape)\n",
    "# print(label.shape)\n",
    "\n",
    "idx = np.random.choice(64, 64, replace=False)\n",
    "train_img = img[0:, 0:, 0:, idx[:train_amount]].reshape(32, 32, -1)\n",
    "test_img = img[0:, 0:, 0:, idx[train_amount:]].reshape(32, 32, -1)\n",
    "train_label = label[0:, idx[:train_amount]].reshape(-1)\n",
    "test_label = label[0:, idx[train_amount:]].reshape(-1)"
   ]
  },
  {
   "cell_type": "code",
   "execution_count": 8,
   "metadata": {
    "tags": []
   },
   "outputs": [
    {
     "output_type": "stream",
     "name": "stdout",
     "text": [
      "(32, 32, 1488)\n(1488,)\n"
     ]
    }
   ],
   "source": [
    "print(train_img.shape)\n",
    "print(train_label.shape)"
   ]
  },
  {
   "cell_type": "code",
   "execution_count": 20,
   "metadata": {},
   "outputs": [
    {
     "output_type": "stream",
     "name": "stdout",
     "text": [
      "Running on GPU 0 (GeForce RTX 2070)\n\n(9, 9, 9)\n1\nItn   X r       X s       X ρ       D cnstr   D dlt     D η     \n----------------------------------------------------------------\nfloat32\nfloat32\n"
     ]
    },
    {
     "output_type": "error",
     "ename": "TypeError",
     "evalue": "Unsupported type <class 'numpy.ndarray'>",
     "traceback": [
      "\u001b[1;31m---------------------------------------------------------------------------\u001b[0m",
      "\u001b[1;31mTypeError\u001b[0m                                 Traceback (most recent call last)",
      "\u001b[1;32m<ipython-input-20-6a90d7d0ddcd>\u001b[0m in \u001b[0;36m<module>\u001b[1;34m\u001b[0m\n\u001b[0;32m     36\u001b[0m   \u001b[1;32mfor\u001b[0m \u001b[0mi\u001b[0m \u001b[1;32min\u001b[0m \u001b[0mindexes\u001b[0m\u001b[1;33m:\u001b[0m\u001b[1;33m\u001b[0m\u001b[1;33m\u001b[0m\u001b[0m\n\u001b[0;32m     37\u001b[0m     \u001b[0ma\u001b[0m \u001b[1;33m=\u001b[0m \u001b[0mnp2cp\u001b[0m\u001b[1;33m(\u001b[0m\u001b[0mS\u001b[0m\u001b[1;33m[\u001b[0m\u001b[1;36m0\u001b[0m\u001b[1;33m:\u001b[0m\u001b[1;33m,\u001b[0m \u001b[1;36m0\u001b[0m\u001b[1;33m:\u001b[0m\u001b[1;33m,\u001b[0m \u001b[0mi\u001b[0m\u001b[1;33m]\u001b[0m\u001b[1;33m)\u001b[0m\u001b[1;33m\u001b[0m\u001b[1;33m\u001b[0m\u001b[0m\n\u001b[1;32m---> 38\u001b[1;33m     \u001b[0md\u001b[0m\u001b[1;33m.\u001b[0m\u001b[0msolve\u001b[0m\u001b[1;33m(\u001b[0m\u001b[0ma\u001b[0m\u001b[1;33m)\u001b[0m\u001b[1;33m\u001b[0m\u001b[1;33m\u001b[0m\u001b[0m\n\u001b[0m\u001b[0;32m     39\u001b[0m     \u001b[1;32mif\u001b[0m \u001b[1;33m(\u001b[0m\u001b[0md\u001b[0m\u001b[1;33m.\u001b[0m\u001b[0mgetitstat\u001b[0m\u001b[1;33m(\u001b[0m\u001b[1;33m)\u001b[0m\u001b[1;33m.\u001b[0m\u001b[0mDeltaD\u001b[0m\u001b[1;33m[\u001b[0m\u001b[1;33m-\u001b[0m\u001b[1;36m1\u001b[0m\u001b[1;33m]\u001b[0m \u001b[1;33m<\u001b[0m \u001b[1;36m1e-5\u001b[0m\u001b[1;33m)\u001b[0m\u001b[1;33m:\u001b[0m  \u001b[1;32mbreak\u001b[0m\u001b[1;33m\u001b[0m\u001b[1;33m\u001b[0m\u001b[0m\n\u001b[0;32m     40\u001b[0m   \u001b[1;32melse\u001b[0m\u001b[1;33m:\u001b[0m\u001b[1;33m\u001b[0m\u001b[1;33m\u001b[0m\u001b[0m\n",
      "\u001b[1;32mpatched\u001b[0m in \u001b[0;36msolve\u001b[1;34m(self, S, dimK)\u001b[0m\n\u001b[0;32m    221\u001b[0m         \u001b[1;31m# Solve CSC problem on S and do dictionary step\u001b[0m\u001b[1;33m\u001b[0m\u001b[1;33m\u001b[0m\u001b[1;33m\u001b[0m\u001b[0m\n\u001b[0;32m    222\u001b[0m         \u001b[0mself\u001b[0m\u001b[1;33m.\u001b[0m\u001b[0minit_vars\u001b[0m\u001b[1;33m(\u001b[0m\u001b[0mS\u001b[0m\u001b[1;33m,\u001b[0m \u001b[0mdimK\u001b[0m\u001b[1;33m)\u001b[0m\u001b[1;33m\u001b[0m\u001b[1;33m\u001b[0m\u001b[0m\n\u001b[1;32m--> 223\u001b[1;33m         \u001b[0mself\u001b[0m\u001b[1;33m.\u001b[0m\u001b[0mxstep\u001b[0m\u001b[1;33m(\u001b[0m\u001b[0mS\u001b[0m\u001b[1;33m,\u001b[0m \u001b[0mself\u001b[0m\u001b[1;33m.\u001b[0m\u001b[0mlmbda\u001b[0m\u001b[1;33m,\u001b[0m \u001b[0mdimK\u001b[0m\u001b[1;33m)\u001b[0m\u001b[1;33m\u001b[0m\u001b[1;33m\u001b[0m\u001b[0m\n\u001b[0m\u001b[0;32m    224\u001b[0m         \u001b[0mself\u001b[0m\u001b[1;33m.\u001b[0m\u001b[0mdstep\u001b[0m\u001b[1;33m(\u001b[0m\u001b[1;33m)\u001b[0m\u001b[1;33m\u001b[0m\u001b[1;33m\u001b[0m\u001b[0m\n\u001b[0;32m    225\u001b[0m \u001b[1;33m\u001b[0m\u001b[0m\n",
      "\u001b[1;32mpatched\u001b[0m in \u001b[0;36mxstep\u001b[1;34m(self, S, lmbda, dimK)\u001b[0m\n\u001b[0;32m    281\u001b[0m                                    \u001b[0mself\u001b[0m\u001b[1;33m.\u001b[0m\u001b[0mopt\u001b[0m\u001b[1;33m[\u001b[0m\u001b[1;34m'CBPDN'\u001b[0m\u001b[1;33m]\u001b[0m\u001b[1;33m,\u001b[0m \u001b[0mdimK\u001b[0m\u001b[1;33m=\u001b[0m\u001b[0mdimK\u001b[0m\u001b[1;33m,\u001b[0m\u001b[1;33m\u001b[0m\u001b[1;33m\u001b[0m\u001b[0m\n\u001b[0;32m    282\u001b[0m                                    dimN=self.cri.dimN)\n\u001b[1;32m--> 283\u001b[1;33m             \u001b[0mxstep\u001b[0m\u001b[1;33m.\u001b[0m\u001b[0msolve\u001b[0m\u001b[1;33m(\u001b[0m\u001b[1;33m)\u001b[0m\u001b[1;33m\u001b[0m\u001b[1;33m\u001b[0m\u001b[0m\n\u001b[0m\u001b[0;32m    284\u001b[0m             \u001b[0mself\u001b[0m\u001b[1;33m.\u001b[0m\u001b[0mSf\u001b[0m \u001b[1;33m=\u001b[0m \u001b[0mxstep\u001b[0m\u001b[1;33m.\u001b[0m\u001b[0mSf\u001b[0m\u001b[1;33m\u001b[0m\u001b[1;33m\u001b[0m\u001b[0m\n\u001b[0;32m    285\u001b[0m             \u001b[0mself\u001b[0m\u001b[1;33m.\u001b[0m\u001b[0msetcoef\u001b[0m\u001b[1;33m(\u001b[0m\u001b[0mxstep\u001b[0m\u001b[1;33m.\u001b[0m\u001b[0mgetcoef\u001b[0m\u001b[1;33m(\u001b[0m\u001b[1;33m)\u001b[0m\u001b[1;33m)\u001b[0m\u001b[1;33m\u001b[0m\u001b[1;33m\u001b[0m\u001b[0m\n",
      "\u001b[1;32m~\\Anaconda3\\envs\\kuroki-lab\\lib\\site-packages\\sporco\\admm\\admm.py\u001b[0m in \u001b[0;36msolve\u001b[1;34m(self)\u001b[0m\n\u001b[0;32m    333\u001b[0m \u001b[1;33m\u001b[0m\u001b[0m\n\u001b[0;32m    334\u001b[0m             \u001b[1;31m# X update\u001b[0m\u001b[1;33m\u001b[0m\u001b[1;33m\u001b[0m\u001b[1;33m\u001b[0m\u001b[0m\n\u001b[1;32m--> 335\u001b[1;33m             \u001b[0mself\u001b[0m\u001b[1;33m.\u001b[0m\u001b[0mxstep\u001b[0m\u001b[1;33m(\u001b[0m\u001b[1;33m)\u001b[0m\u001b[1;33m\u001b[0m\u001b[1;33m\u001b[0m\u001b[0m\n\u001b[0m\u001b[0;32m    336\u001b[0m \u001b[1;33m\u001b[0m\u001b[0m\n\u001b[0;32m    337\u001b[0m             \u001b[1;31m# Implement relaxation if RelaxParam != 1.0\u001b[0m\u001b[1;33m\u001b[0m\u001b[1;33m\u001b[0m\u001b[1;33m\u001b[0m\u001b[0m\n",
      "\u001b[1;32mpatched\u001b[0m in \u001b[0;36mxstep\u001b[1;34m(self)\u001b[0m\n\u001b[0;32m    258\u001b[0m         :math:`\\mathbf{x}`.\"\"\"\n\u001b[0;32m    259\u001b[0m \u001b[1;33m\u001b[0m\u001b[0m\n\u001b[1;32m--> 260\u001b[1;33m         \u001b[0mself\u001b[0m\u001b[1;33m.\u001b[0m\u001b[0mYU\u001b[0m\u001b[1;33m[\u001b[0m\u001b[1;33m:\u001b[0m\u001b[1;33m]\u001b[0m \u001b[1;33m=\u001b[0m \u001b[0mself\u001b[0m\u001b[1;33m.\u001b[0m\u001b[0mY\u001b[0m \u001b[1;33m-\u001b[0m \u001b[0mself\u001b[0m\u001b[1;33m.\u001b[0m\u001b[0mU\u001b[0m\u001b[1;33m\u001b[0m\u001b[1;33m\u001b[0m\u001b[0m\n\u001b[0m\u001b[0;32m    261\u001b[0m \u001b[1;33m\u001b[0m\u001b[0m\n\u001b[0;32m    262\u001b[0m         \u001b[0mb\u001b[0m \u001b[1;33m=\u001b[0m \u001b[0mself\u001b[0m\u001b[1;33m.\u001b[0m\u001b[0mDSf\u001b[0m \u001b[1;33m+\u001b[0m \u001b[0mself\u001b[0m\u001b[1;33m.\u001b[0m\u001b[0mrho\u001b[0m \u001b[1;33m*\u001b[0m \u001b[0msl\u001b[0m\u001b[1;33m.\u001b[0m\u001b[0mrfftn\u001b[0m\u001b[1;33m(\u001b[0m\u001b[0mself\u001b[0m\u001b[1;33m.\u001b[0m\u001b[0mYU\u001b[0m\u001b[1;33m,\u001b[0m \u001b[1;32mNone\u001b[0m\u001b[1;33m,\u001b[0m \u001b[0mself\u001b[0m\u001b[1;33m.\u001b[0m\u001b[0mcri\u001b[0m\u001b[1;33m.\u001b[0m\u001b[0maxisN\u001b[0m\u001b[1;33m)\u001b[0m\u001b[1;33m\u001b[0m\u001b[1;33m\u001b[0m\u001b[0m\n",
      "\u001b[1;32mcupy\\core\\core.pyx\u001b[0m in \u001b[0;36mcupy.core.core.ndarray.__array_ufunc__\u001b[1;34m()\u001b[0m\n",
      "\u001b[1;32mcupy\\core\\_kernel.pyx\u001b[0m in \u001b[0;36mcupy.core._kernel.ufunc.__call__\u001b[1;34m()\u001b[0m\n",
      "\u001b[1;32mcupy\\core\\_kernel.pyx\u001b[0m in \u001b[0;36mcupy.core._kernel._preprocess_args\u001b[1;34m()\u001b[0m\n",
      "\u001b[1;31mTypeError\u001b[0m: Unsupported type <class 'numpy.ndarray'>"
     ]
    }
   ],
   "source": [
    "def subtract_mean(S):\n",
    "    return S - np.mean(S, axis=(0, 1))\n",
    "\n",
    "from mysporco.cupy import (cupy_enabled, np2cp, cp2np, select_device_by_load, gpu_info)\n",
    "from mysporco.cupy.dictlrn import onlinecdl\n",
    "from mysporco.cupy.admm import cbpdn\n",
    "\n",
    "if not cupy_enabled():\n",
    "    print('CuPy/GPU device not available: running without GPU acceleration\\n')\n",
    "else:\n",
    "    id = select_device_by_load()\n",
    "    info = gpu_info()\n",
    "    if info:\n",
    "        print('Running on GPU %d (%s)\\n' % (id, info[id].name))\n",
    "\n",
    "# 辞書の初期化\n",
    "np.random.seed(12345)\n",
    "D0 = np.random.randn(9, 9, 9)\n",
    "dsz = ((3, 3, 3),(6, 6, 3),(9 , 9, 3))\n",
    "\n",
    "# 辞書学習の実行(ライブラリ使用)\n",
    "lmbda = 0.05\n",
    "S = subtract_mean(train_img)\n",
    "opt = onlinecdl.OnlineConvBPDNDictLearn.Options({\n",
    "                'Verbose': True, 'DictSize': dsz, 'ZeroMean': True, 'eta_a': 10.0,\n",
    "                 'eta_b': 20.0, 'DataType': np.float32,\n",
    "                'CBPDN': {'rho': 50.0*lmbda + 0.5, 'NonNegCoef': True, 'RelStopTol': 1e-3, \n",
    "                          'HighMemSolve': True, 'FastSolve': True, 'DataType': np.float32}})\n",
    "                          \n",
    "d = onlinecdl.OnlineConvBPDNDictLearn(np2cp(D0), lmbda, opt)\n",
    "\n",
    "d.display_start()\n",
    "while True:\n",
    "  indexes = np.array([i for i in range(train_img.shape[-1])])\n",
    "  np.random.shuffle(indexes)\n",
    "  for i in indexes:\n",
    "    a = np2cp(S[0:, 0:, i])\n",
    "    d.solve(a)\n",
    "    if (d.getitstat().DeltaD[-1] < 1e-5):  break\n",
    "  else:\n",
    "      continue\n",
    "d.display_end()\n",
    "\n",
    "D1 = cp2np(d.getdict())"
   ]
  },
  {
   "cell_type": "code",
   "execution_count": 14,
   "metadata": {},
   "outputs": [
    {
     "output_type": "execute_result",
     "data": {
      "text/plain": [
       "dtype('float64')"
      ]
     },
     "metadata": {},
     "execution_count": 14
    }
   ],
   "source": [
    "S"
   ]
  },
  {
   "cell_type": "code",
   "execution_count": 4,
   "metadata": {
    "tags": []
   },
   "outputs": [
    {
     "output_type": "stream",
     "name": "stdout",
     "text": [
      "(11, 11, 6)\n",
      "1\n",
      "Itn   Fnc       DFid      ℓ1        Cnstr     r_X       s_X       ρ_X       r_D       s_D       ρ_D     \n",
      "--------------------------------------------------------------------------------------------------------\n"
     ]
    },
    {
     "output_type": "error",
     "ename": "KeyboardInterrupt",
     "evalue": "",
     "traceback": [
      "\u001b[1;31m---------------------------------------------------------------------------\u001b[0m",
      "\u001b[1;31mKeyboardInterrupt\u001b[0m                         Traceback (most recent call last)",
      "\u001b[1;32m<ipython-input-4-3b948654f671>\u001b[0m in \u001b[0;36m<module>\u001b[1;34m\u001b[0m\n\u001b[0;32m     20\u001b[0m \u001b[0md\u001b[0m \u001b[1;33m=\u001b[0m \u001b[0mcbpdndl\u001b[0m\u001b[1;33m.\u001b[0m\u001b[0mConvBPDNDictLearn\u001b[0m\u001b[1;33m(\u001b[0m\u001b[0mD0\u001b[0m\u001b[1;33m,\u001b[0m \u001b[0mS\u001b[0m\u001b[1;33m,\u001b[0m \u001b[0mlmbda\u001b[0m\u001b[1;33m,\u001b[0m \u001b[0mopt\u001b[0m\u001b[1;33m)\u001b[0m\u001b[1;33m\u001b[0m\u001b[1;33m\u001b[0m\u001b[0m\n\u001b[0;32m     21\u001b[0m \u001b[1;33m\u001b[0m\u001b[0m\n\u001b[1;32m---> 22\u001b[1;33m \u001b[0mD1\u001b[0m \u001b[1;33m=\u001b[0m \u001b[0md\u001b[0m\u001b[1;33m.\u001b[0m\u001b[0msolve\u001b[0m\u001b[1;33m(\u001b[0m\u001b[1;33m)\u001b[0m\u001b[1;33m\u001b[0m\u001b[1;33m\u001b[0m\u001b[0m\n\u001b[0m",
      "\u001b[1;32m~\\Anaconda3\\envs\\kuroki-lab\\lib\\site-packages\\sporco\\dictlrn\\dictlrn.py\u001b[0m in \u001b[0;36msolve\u001b[1;34m(self)\u001b[0m\n\u001b[0;32m    328\u001b[0m \u001b[1;33m\u001b[0m\u001b[0m\n\u001b[0;32m    329\u001b[0m             \u001b[1;31m# X update\u001b[0m\u001b[1;33m\u001b[0m\u001b[1;33m\u001b[0m\u001b[1;33m\u001b[0m\u001b[0m\n\u001b[1;32m--> 330\u001b[1;33m             \u001b[0mself\u001b[0m\u001b[1;33m.\u001b[0m\u001b[0mxstep\u001b[0m\u001b[1;33m.\u001b[0m\u001b[0msolve\u001b[0m\u001b[1;33m(\u001b[0m\u001b[1;33m)\u001b[0m\u001b[1;33m\u001b[0m\u001b[1;33m\u001b[0m\u001b[0m\n\u001b[0m\u001b[0;32m    331\u001b[0m             \u001b[0mself\u001b[0m\u001b[1;33m.\u001b[0m\u001b[0mpost_xstep\u001b[0m\u001b[1;33m(\u001b[0m\u001b[1;33m)\u001b[0m\u001b[1;33m\u001b[0m\u001b[1;33m\u001b[0m\u001b[0m\n\u001b[0;32m    332\u001b[0m \u001b[1;33m\u001b[0m\u001b[0m\n",
      "\u001b[1;32m~\\Anaconda3\\envs\\kuroki-lab\\lib\\site-packages\\sporco\\admm\\admm.py\u001b[0m in \u001b[0;36msolve\u001b[1;34m(self)\u001b[0m\n\u001b[0;32m    333\u001b[0m \u001b[1;33m\u001b[0m\u001b[0m\n\u001b[0;32m    334\u001b[0m             \u001b[1;31m# X update\u001b[0m\u001b[1;33m\u001b[0m\u001b[1;33m\u001b[0m\u001b[1;33m\u001b[0m\u001b[0m\n\u001b[1;32m--> 335\u001b[1;33m             \u001b[0mself\u001b[0m\u001b[1;33m.\u001b[0m\u001b[0mxstep\u001b[0m\u001b[1;33m(\u001b[0m\u001b[1;33m)\u001b[0m\u001b[1;33m\u001b[0m\u001b[1;33m\u001b[0m\u001b[0m\n\u001b[0m\u001b[0;32m    336\u001b[0m \u001b[1;33m\u001b[0m\u001b[0m\n\u001b[0;32m    337\u001b[0m             \u001b[1;31m# Implement relaxation if RelaxParam != 1.0\u001b[0m\u001b[1;33m\u001b[0m\u001b[1;33m\u001b[0m\u001b[1;33m\u001b[0m\u001b[0m\n",
      "\u001b[1;32mc:\\Users\\hibana\\Downloads\\2020_takanashi\\mysporco\\admm\\cbpdn.py\u001b[0m in \u001b[0;36mxstep\u001b[1;34m(self)\u001b[0m\n\u001b[0;32m    268\u001b[0m                                           self.cri.axisC)\n\u001b[0;32m    269\u001b[0m \u001b[1;33m\u001b[0m\u001b[0m\n\u001b[1;32m--> 270\u001b[1;33m         \u001b[0mself\u001b[0m\u001b[1;33m.\u001b[0m\u001b[0mX\u001b[0m \u001b[1;33m=\u001b[0m \u001b[0msl\u001b[0m\u001b[1;33m.\u001b[0m\u001b[0mirfftn\u001b[0m\u001b[1;33m(\u001b[0m\u001b[0mself\u001b[0m\u001b[1;33m.\u001b[0m\u001b[0mXf\u001b[0m\u001b[1;33m,\u001b[0m \u001b[0mself\u001b[0m\u001b[1;33m.\u001b[0m\u001b[0mcri\u001b[0m\u001b[1;33m.\u001b[0m\u001b[0mNv\u001b[0m\u001b[1;33m,\u001b[0m \u001b[0mself\u001b[0m\u001b[1;33m.\u001b[0m\u001b[0mcri\u001b[0m\u001b[1;33m.\u001b[0m\u001b[0maxisN\u001b[0m\u001b[1;33m)\u001b[0m\u001b[1;33m\u001b[0m\u001b[1;33m\u001b[0m\u001b[0m\n\u001b[0m\u001b[0;32m    271\u001b[0m \u001b[1;33m\u001b[0m\u001b[0m\n\u001b[0;32m    272\u001b[0m         \u001b[1;32mif\u001b[0m \u001b[0mself\u001b[0m\u001b[1;33m.\u001b[0m\u001b[0mopt\u001b[0m\u001b[1;33m[\u001b[0m\u001b[1;34m'LinSolveCheck'\u001b[0m\u001b[1;33m]\u001b[0m\u001b[1;33m:\u001b[0m\u001b[1;33m\u001b[0m\u001b[1;33m\u001b[0m\u001b[0m\n",
      "\u001b[1;32m~\\Anaconda3\\envs\\kuroki-lab\\lib\\site-packages\\sporco\\linalg.py\u001b[0m in \u001b[0;36mirfftn\u001b[1;34m(a, s, axes)\u001b[0m\n\u001b[0;32m    284\u001b[0m     return pyfftw.interfaces.numpy_fft.irfftn(\n\u001b[0;32m    285\u001b[0m         \u001b[0ma\u001b[0m\u001b[1;33m,\u001b[0m \u001b[0ms\u001b[0m\u001b[1;33m=\u001b[0m\u001b[0ms\u001b[0m\u001b[1;33m,\u001b[0m \u001b[0maxes\u001b[0m\u001b[1;33m=\u001b[0m\u001b[0maxes\u001b[0m\u001b[1;33m,\u001b[0m \u001b[0moverwrite_input\u001b[0m\u001b[1;33m=\u001b[0m\u001b[1;32mFalse\u001b[0m\u001b[1;33m,\u001b[0m\u001b[1;33m\u001b[0m\u001b[1;33m\u001b[0m\u001b[0m\n\u001b[1;32m--> 286\u001b[1;33m         planner_effort='FFTW_MEASURE', threads=pyfftw_threads)\n\u001b[0m\u001b[0;32m    287\u001b[0m \u001b[1;33m\u001b[0m\u001b[0m\n\u001b[0;32m    288\u001b[0m \u001b[1;33m\u001b[0m\u001b[0m\n",
      "\u001b[1;32m~\\Anaconda3\\envs\\kuroki-lab\\lib\\site-packages\\pyfftw\\interfaces\\numpy_fft.py\u001b[0m in \u001b[0;36mirfftn\u001b[1;34m(a, s, axes, norm, overwrite_input, planner_effort, threads, auto_align_input, auto_contiguous)\u001b[0m\n\u001b[0;32m    293\u001b[0m     return _Xfftn(a, s, axes, overwrite_input, planner_effort,\n\u001b[0;32m    294\u001b[0m             \u001b[0mthreads\u001b[0m\u001b[1;33m,\u001b[0m \u001b[0mauto_align_input\u001b[0m\u001b[1;33m,\u001b[0m \u001b[0mauto_contiguous\u001b[0m\u001b[1;33m,\u001b[0m\u001b[1;33m\u001b[0m\u001b[1;33m\u001b[0m\u001b[0m\n\u001b[1;32m--> 295\u001b[1;33m             calling_func, **_norm_args(norm))\n\u001b[0m\u001b[0;32m    296\u001b[0m \u001b[1;33m\u001b[0m\u001b[0m\n\u001b[0;32m    297\u001b[0m \u001b[1;33m\u001b[0m\u001b[0m\n",
      "\u001b[1;32m~\\Anaconda3\\envs\\kuroki-lab\\lib\\site-packages\\pyfftw\\interfaces\\_utils.py\u001b[0m in \u001b[0;36m_Xfftn\u001b[1;34m(a, s, axes, overwrite_input, planner_effort, threads, auto_align_input, auto_contiguous, calling_func, normalise_idft, ortho)\u001b[0m\n\u001b[0;32m    126\u001b[0m         \u001b[0mplanner_args\u001b[0m \u001b[1;33m=\u001b[0m \u001b[1;33m(\u001b[0m\u001b[0ma\u001b[0m\u001b[1;33m,\u001b[0m \u001b[0ms\u001b[0m\u001b[1;33m,\u001b[0m \u001b[0maxes\u001b[0m\u001b[1;33m)\u001b[0m \u001b[1;33m+\u001b[0m \u001b[0margs\u001b[0m\u001b[1;33m\u001b[0m\u001b[1;33m\u001b[0m\u001b[0m\n\u001b[0;32m    127\u001b[0m \u001b[1;33m\u001b[0m\u001b[0m\n\u001b[1;32m--> 128\u001b[1;33m         \u001b[0mFFTW_object\u001b[0m \u001b[1;33m=\u001b[0m \u001b[0mgetattr\u001b[0m\u001b[1;33m(\u001b[0m\u001b[0mbuilders\u001b[0m\u001b[1;33m,\u001b[0m \u001b[0mcalling_func\u001b[0m\u001b[1;33m)\u001b[0m\u001b[1;33m(\u001b[0m\u001b[1;33m*\u001b[0m\u001b[0mplanner_args\u001b[0m\u001b[1;33m)\u001b[0m\u001b[1;33m\u001b[0m\u001b[1;33m\u001b[0m\u001b[0m\n\u001b[0m\u001b[0;32m    129\u001b[0m \u001b[1;33m\u001b[0m\u001b[0m\n\u001b[0;32m    130\u001b[0m         \u001b[1;31m# Only copy if the input array is what was actually used\u001b[0m\u001b[1;33m\u001b[0m\u001b[1;33m\u001b[0m\u001b[1;33m\u001b[0m\u001b[0m\n",
      "\u001b[1;32m~\\Anaconda3\\envs\\kuroki-lab\\lib\\site-packages\\pyfftw\\builders\\builders.py\u001b[0m in \u001b[0;36mirfftn\u001b[1;34m(a, s, axes, planner_effort, threads, auto_align_input, auto_contiguous, avoid_copy, norm)\u001b[0m\n\u001b[0;32m    543\u001b[0m     return _Xfftn(a, s, axes, overwrite_input, planner_effort,\n\u001b[0;32m    544\u001b[0m             \u001b[0mthreads\u001b[0m\u001b[1;33m,\u001b[0m \u001b[0mauto_align_input\u001b[0m\u001b[1;33m,\u001b[0m \u001b[0mauto_contiguous\u001b[0m\u001b[1;33m,\u001b[0m\u001b[1;33m\u001b[0m\u001b[1;33m\u001b[0m\u001b[0m\n\u001b[1;32m--> 545\u001b[1;33m             avoid_copy, inverse, real, **_norm_args(norm))\n\u001b[0m",
      "\u001b[1;32m~\\Anaconda3\\envs\\kuroki-lab\\lib\\site-packages\\pyfftw\\builders\\_utils.py\u001b[0m in \u001b[0;36m_Xfftn\u001b[1;34m(a, s, axes, overwrite_input, planner_effort, threads, auto_align_input, auto_contiguous, avoid_copy, inverse, real, normalise_idft, ortho)\u001b[0m\n\u001b[0;32m    259\u001b[0m \u001b[1;33m\u001b[0m\u001b[0m\n\u001b[0;32m    260\u001b[0m         FFTW_object = pyfftw.FFTW(input_array, output_array, axes, direction,\n\u001b[1;32m--> 261\u001b[1;33m                 flags, threads, normalise_idft=normalise_idft, ortho=ortho)\n\u001b[0m\u001b[0;32m    262\u001b[0m \u001b[1;33m\u001b[0m\u001b[0m\n\u001b[0;32m    263\u001b[0m         \u001b[1;32mif\u001b[0m \u001b[1;32mnot\u001b[0m \u001b[0mavoid_copy\u001b[0m\u001b[1;33m:\u001b[0m\u001b[1;33m\u001b[0m\u001b[1;33m\u001b[0m\u001b[0m\n",
      "\u001b[1;31mKeyboardInterrupt\u001b[0m: "
     ]
    }
   ],
   "source": [
    "def subtract_mean(S):\n",
    "    return S - np.mean(S, axis=(0, 1))\n",
    "\n",
    "from mysporco.dictlrn import cbpdndl\n",
    "\n",
    "# 辞書の初期化\n",
    "np.random.seed(1)\n",
    "D0 = np.random.randn(11, 11, 6)\n",
    "dsz = D0.shape\n",
    "dsz = ((4, 4, 3), (11, 11, 3))\n",
    "# cri = cr.CSC_ConvRepIndexing(D0, S)\n",
    "\n",
    "# 設定\n",
    "lmbda = 0.5\n",
    "opt = cbpdndl.ConvBPDNDictLearn.Options({'Verbose': True, 'MaxMainIter': 1000, 'DictSize': dsz,\n",
    "                            'CBPDN': {'rho': 50.0*lmbda + 0.5, 'NonNegCoef': True, 'RelStopTol': 1e-3, 'HighMemSolve': True, 'FastSolve': False},\n",
    "                            'CCMOD': {'ZeroMean': True}},\n",
    "                            dmethod='cns')\n",
    "S = subtract_mean(train_img)\n",
    "d = cbpdndl.ConvBPDNDictLearn(D0, S, lmbda, opt)\n",
    "\n",
    "D1 = d.solve()"
   ]
  },
  {
   "cell_type": "code",
   "execution_count": 8,
   "metadata": {
    "tags": []
   },
   "outputs": [
    {
     "output_type": "stream",
     "name": "stdout",
     "text": "(11, 11, 1, 1, 6)\n(32, 32, 1488, 6)\n"
    }
   ],
   "source": [
    "D1 = d.getdict()\n",
    "X1 = d.getcoef().squeeze()\n",
    "print(D1.shape)\n",
    "print(X1.shape)"
   ]
  },
  {
   "cell_type": "code",
   "execution_count": 10,
   "metadata": {
    "tags": []
   },
   "outputs": [
    {
     "output_type": "stream",
     "name": "stdout",
     "text": "(11, 11, 6, 10)\n6\n"
    },
    {
     "output_type": "error",
     "ename": "KeyboardInterrupt",
     "evalue": "",
     "traceback": [
      "\u001b[1;31m---------------------------------------------------------------------------\u001b[0m",
      "\u001b[1;31mKeyboardInterrupt\u001b[0m                         Traceback (most recent call last)",
      "\u001b[1;32m&lt;ipython-input-10-06ef2ad14473&gt;\u001b[0m in \u001b[0;36m&lt;module&gt;\u001b[1;34m\u001b[0m\n\u001b[0;32m     14\u001b[0m                             dmethod=&#39;cns&#39;)\n\u001b[0;32m     15\u001b[0m \u001b[0mS\u001b[0m \u001b[1;33m=\u001b[0m \u001b[0msubtract_mean\u001b[0m\u001b[1;33m(\u001b[0m\u001b[0mtrain_img\u001b[0m\u001b[1;33m)\u001b[0m\u001b[1;33m\u001b[0m\u001b[1;33m\u001b[0m\u001b[0m\n\u001b[1;32m---&gt; 16\u001b[1;33m \u001b[0md\u001b[0m \u001b[1;33m=\u001b[0m \u001b[0mmycbpdndl\u001b[0m\u001b[1;33m.\u001b[0m\u001b[0mConvBPDNDictLearn\u001b[0m\u001b[1;33m(\u001b[0m\u001b[0mD0\u001b[0m\u001b[1;33m,\u001b[0m \u001b[0mX1\u001b[0m\u001b[1;33m.\u001b[0m\u001b[0mtranspose\u001b[0m\u001b[1;33m(\u001b[0m\u001b[1;36m0\u001b[0m\u001b[1;33m,\u001b[0m \u001b[1;36m1\u001b[0m\u001b[1;33m,\u001b[0m \u001b[1;36m3\u001b[0m\u001b[1;33m,\u001b[0m \u001b[1;36m2\u001b[0m\u001b[1;33m)\u001b[0m\u001b[1;33m,\u001b[0m \u001b[0mlmbda\u001b[0m\u001b[1;33m,\u001b[0m \u001b[0mopt\u001b[0m\u001b[1;33m)\u001b[0m\u001b[1;33m\u001b[0m\u001b[1;33m\u001b[0m\u001b[0m\n\u001b[0m\u001b[0;32m     17\u001b[0m \u001b[1;33m\u001b[0m\u001b[0m\n\u001b[0;32m     18\u001b[0m \u001b[0mD2\u001b[0m \u001b[1;33m=\u001b[0m \u001b[0md\u001b[0m\u001b[1;33m.\u001b[0m\u001b[0msolve\u001b[0m\u001b[1;33m(\u001b[0m\u001b[1;33m)\u001b[0m\u001b[1;33m\u001b[0m\u001b[1;33m\u001b[0m\u001b[0m\n",
      "\u001b[1;32m~\\Anaconda3\\envs\\kuroki-lab\\lib\\site-packages\\sporco\\dictlrn\\dictlrn.py\u001b[0m in \u001b[0;36m__call__\u001b[1;34m(cls, *args, **kwargs)\u001b[0m\n\u001b[0;32m    178\u001b[0m \u001b[1;33m\u001b[0m\u001b[0m\n\u001b[0;32m    179\u001b[0m         \u001b[1;31m# Initialise instance\u001b[0m\u001b[1;33m\u001b[0m\u001b[1;33m\u001b[0m\u001b[1;33m\u001b[0m\u001b[0m\n\u001b[1;32m--&gt; 180\u001b[1;33m         \u001b[0minstance\u001b[0m \u001b[1;33m=\u001b[0m \u001b[0msuper\u001b[0m\u001b[1;33m(\u001b[0m\u001b[0m_DictLearn_Meta\u001b[0m\u001b[1;33m,\u001b[0m \u001b[0mcls\u001b[0m\u001b[1;33m)\u001b[0m\u001b[1;33m.\u001b[0m\u001b[0m__call__\u001b[0m\u001b[1;33m(\u001b[0m\u001b[1;33m*\u001b[0m\u001b[0margs\u001b[0m\u001b[1;33m,\u001b[0m \u001b[1;33m**\u001b[0m\u001b[0mkwargs\u001b[0m\u001b[1;33m)\u001b[0m\u001b[1;33m\u001b[0m\u001b[1;33m\u001b[0m\u001b[0m\n\u001b[0m\u001b[0;32m    181\u001b[0m         \u001b[1;31m# Stop initialisation timer\u001b[0m\u001b[1;33m\u001b[0m\u001b[1;33m\u001b[0m\u001b[1;33m\u001b[0m\u001b[0m\n\u001b[0;32m    182\u001b[0m         \u001b[0minstance\u001b[0m\u001b[1;33m.\u001b[0m\u001b[0mtimer\u001b[0m\u001b[1;33m.\u001b[0m\u001b[0mstop\u001b[0m\u001b[1;33m(\u001b[0m\u001b[1;34m&#39;init&#39;\u001b[0m\u001b[1;33m)\u001b[0m\u001b[1;33m\u001b[0m\u001b[1;33m\u001b[0m\u001b[0m\n",
      "\u001b[1;32mc:\\Users\\hibana\\Downloads\\2020_takanashi\\mycbpdndl.py\u001b[0m in \u001b[0;36m__init__\u001b[1;34m(self, D0, S, lmbda, opt, xmethod, dmethod, dimK, dimN)\u001b[0m\n\u001b[0;32m    459\u001b[0m         \u001b[1;31m# Create X update object\u001b[0m\u001b[1;33m\u001b[0m\u001b[1;33m\u001b[0m\u001b[1;33m\u001b[0m\u001b[0m\n\u001b[0;32m    460\u001b[0m         xstep = ConvBPDN(D0, S, lmbda, opt[&#39;CBPDN&#39;], method=xmethod,\n\u001b[1;32m--&gt; 461\u001b[1;33m                          dimK=dimK, dimN=dimN)\n\u001b[0m\u001b[0;32m    462\u001b[0m \u001b[1;33m\u001b[0m\u001b[0m\n\u001b[0;32m    463\u001b[0m         \u001b[1;31m# Create D update object\u001b[0m\u001b[1;33m\u001b[0m\u001b[1;33m\u001b[0m\u001b[1;33m\u001b[0m\u001b[0m\n",
      "\u001b[1;32mc:\\Users\\hibana\\Downloads\\2020_takanashi\\mycbpdndl.py\u001b[0m in \u001b[0;36mConvBPDN\u001b[1;34m(*args, **kwargs)\u001b[0m\n\u001b[0;32m    121\u001b[0m \u001b[1;33m\u001b[0m\u001b[0m\n\u001b[0;32m    122\u001b[0m     \u001b[1;31m# Return object of the nested class type\u001b[0m\u001b[1;33m\u001b[0m\u001b[1;33m\u001b[0m\u001b[1;33m\u001b[0m\u001b[0m\n\u001b[1;32m--&gt; 123\u001b[1;33m     \u001b[1;32mreturn\u001b[0m \u001b[0mConvBPDN\u001b[0m\u001b[1;33m(\u001b[0m\u001b[1;33m*\u001b[0m\u001b[0margs\u001b[0m\u001b[1;33m,\u001b[0m \u001b[1;33m**\u001b[0m\u001b[0mkwargs\u001b[0m\u001b[1;33m)\u001b[0m\u001b[1;33m\u001b[0m\u001b[1;33m\u001b[0m\u001b[0m\n\u001b[0m\u001b[0;32m    124\u001b[0m \u001b[1;33m\u001b[0m\u001b[0m\n\u001b[0;32m    125\u001b[0m \u001b[1;33m\u001b[0m\u001b[0m\n",
      "\u001b[1;32m~\\Anaconda3\\envs\\kuroki-lab\\lib\\site-packages\\sporco\\common.py\u001b[0m in \u001b[0;36m__call__\u001b[1;34m(cls, *args, **kwargs)\u001b[0m\n\u001b[0;32m    108\u001b[0m \u001b[1;33m\u001b[0m\u001b[0m\n\u001b[0;32m    109\u001b[0m         \u001b[1;31m# Initialise instance\u001b[0m\u001b[1;33m\u001b[0m\u001b[1;33m\u001b[0m\u001b[1;33m\u001b[0m\u001b[0m\n\u001b[1;32m--&gt; 110\u001b[1;33m         \u001b[0minstance\u001b[0m \u001b[1;33m=\u001b[0m \u001b[0msuper\u001b[0m\u001b[1;33m(\u001b[0m\u001b[0m_IterSolver_Meta\u001b[0m\u001b[1;33m,\u001b[0m \u001b[0mcls\u001b[0m\u001b[1;33m)\u001b[0m\u001b[1;33m.\u001b[0m\u001b[0m__call__\u001b[0m\u001b[1;33m(\u001b[0m\u001b[1;33m*\u001b[0m\u001b[0margs\u001b[0m\u001b[1;33m,\u001b[0m \u001b[1;33m**\u001b[0m\u001b[0mkwargs\u001b[0m\u001b[1;33m)\u001b[0m\u001b[1;33m\u001b[0m\u001b[1;33m\u001b[0m\u001b[0m\n\u001b[0m\u001b[0;32m    111\u001b[0m         \u001b[1;31m# Stop initialisation timer\u001b[0m\u001b[1;33m\u001b[0m\u001b[1;33m\u001b[0m\u001b[1;33m\u001b[0m\u001b[0m\n\u001b[0;32m    112\u001b[0m         \u001b[0minstance\u001b[0m\u001b[1;33m.\u001b[0m\u001b[0mtimer\u001b[0m\u001b[1;33m.\u001b[0m\u001b[0mstop\u001b[0m\u001b[1;33m(\u001b[0m\u001b[1;34m&#39;init&#39;\u001b[0m\u001b[1;33m)\u001b[0m\u001b[1;33m\u001b[0m\u001b[1;33m\u001b[0m\u001b[0m\n",
      "\u001b[1;32mc:\\Users\\hibana\\Downloads\\2020_takanashi\\mycbpdndl.py\u001b[0m in \u001b[0;36m__init__\u001b[1;34m(self, *args, **kwargs)\u001b[0m\n\u001b[0;32m    115\u001b[0m     \u001b[1;32mclass\u001b[0m \u001b[0mConvBPDN\u001b[0m\u001b[1;33m(\u001b[0m\u001b[0mbase\u001b[0m\u001b[1;33m)\u001b[0m\u001b[1;33m:\u001b[0m\u001b[1;33m\u001b[0m\u001b[1;33m\u001b[0m\u001b[0m\n\u001b[0;32m    116\u001b[0m         \u001b[1;32mdef\u001b[0m \u001b[0m__init__\u001b[0m\u001b[1;33m(\u001b[0m\u001b[0mself\u001b[0m\u001b[1;33m,\u001b[0m \u001b[1;33m*\u001b[0m\u001b[0margs\u001b[0m\u001b[1;33m,\u001b[0m \u001b[1;33m**\u001b[0m\u001b[0mkwargs\u001b[0m\u001b[1;33m)\u001b[0m\u001b[1;33m:\u001b[0m\u001b[1;33m\u001b[0m\u001b[1;33m\u001b[0m\u001b[0m\n\u001b[1;32m--&gt; 117\u001b[1;33m             \u001b[0msuper\u001b[0m\u001b[1;33m(\u001b[0m\u001b[0mConvBPDN\u001b[0m\u001b[1;33m,\u001b[0m \u001b[0mself\u001b[0m\u001b[1;33m)\u001b[0m\u001b[1;33m.\u001b[0m\u001b[0m__init__\u001b[0m\u001b[1;33m(\u001b[0m\u001b[1;33m*\u001b[0m\u001b[0margs\u001b[0m\u001b[1;33m,\u001b[0m \u001b[1;33m**\u001b[0m\u001b[0mkwargs\u001b[0m\u001b[1;33m)\u001b[0m\u001b[1;33m\u001b[0m\u001b[1;33m\u001b[0m\u001b[0m\n\u001b[0m\u001b[0;32m    118\u001b[0m \u001b[1;33m\u001b[0m\u001b[0m\n\u001b[0;32m    119\u001b[0m     \u001b[1;31m# Allow pickling of objects of type ConvBPDN\u001b[0m\u001b[1;33m\u001b[0m\u001b[1;33m\u001b[0m\u001b[1;33m\u001b[0m\u001b[0m\n",
      "\u001b[1;32mc:\\Users\\hibana\\Downloads\\2020_takanashi\\mycbpdn.py\u001b[0m in \u001b[0;36m__init__\u001b[1;34m(self, D, S, lmbda, opt, dimK, dimN)\u001b[0m\n\u001b[0;32m    580\u001b[0m \u001b[1;33m\u001b[0m\u001b[0m\n\u001b[0;32m    581\u001b[0m         \u001b[1;31m# Call parent class __init__\u001b[0m\u001b[1;33m\u001b[0m\u001b[1;33m\u001b[0m\u001b[1;33m\u001b[0m\u001b[0m\n\u001b[1;32m--&gt; 582\u001b[1;33m         \u001b[0msuper\u001b[0m\u001b[1;33m(\u001b[0m\u001b[0mConvBPDN\u001b[0m\u001b[1;33m,\u001b[0m \u001b[0mself\u001b[0m\u001b[1;33m)\u001b[0m\u001b[1;33m.\u001b[0m\u001b[0m__init__\u001b[0m\u001b[1;33m(\u001b[0m\u001b[0mD\u001b[0m\u001b[1;33m,\u001b[0m \u001b[0mS\u001b[0m\u001b[1;33m,\u001b[0m \u001b[0mopt\u001b[0m\u001b[1;33m,\u001b[0m \u001b[0mdimK\u001b[0m\u001b[1;33m,\u001b[0m \u001b[0mdimN\u001b[0m\u001b[1;33m)\u001b[0m\u001b[1;33m\u001b[0m\u001b[1;33m\u001b[0m\u001b[0m\n\u001b[0m\u001b[0;32m    583\u001b[0m \u001b[1;33m\u001b[0m\u001b[0m\n\u001b[0;32m    584\u001b[0m         \u001b[1;31m# Set l1 term weight array\u001b[0m\u001b[1;33m\u001b[0m\u001b[1;33m\u001b[0m\u001b[1;33m\u001b[0m\u001b[0m\n",
      "\u001b[1;32mc:\\Users\\hibana\\Downloads\\2020_takanashi\\mycbpdn.py\u001b[0m in \u001b[0;36m__init__\u001b[1;34m(self, D, S, opt, dimK, dimN)\u001b[0m\n\u001b[0;32m    218\u001b[0m \u001b[1;33m\u001b[0m\u001b[0m\n\u001b[0;32m    219\u001b[0m         \u001b[1;31m# Compute signal in DFT domain\u001b[0m\u001b[1;33m\u001b[0m\u001b[1;33m\u001b[0m\u001b[1;33m\u001b[0m\u001b[0m\n\u001b[1;32m--&gt; 220\u001b[1;33m         \u001b[0mself\u001b[0m\u001b[1;33m.\u001b[0m\u001b[0mSf\u001b[0m \u001b[1;33m=\u001b[0m \u001b[0msl\u001b[0m\u001b[1;33m.\u001b[0m\u001b[0mrfftn\u001b[0m\u001b[1;33m(\u001b[0m\u001b[0mself\u001b[0m\u001b[1;33m.\u001b[0m\u001b[0mS\u001b[0m\u001b[1;33m,\u001b[0m \u001b[1;32mNone\u001b[0m\u001b[1;33m,\u001b[0m \u001b[0mself\u001b[0m\u001b[1;33m.\u001b[0m\u001b[0mcri\u001b[0m\u001b[1;33m.\u001b[0m\u001b[0maxisN\u001b[0m\u001b[1;33m)\u001b[0m\u001b[1;33m\u001b[0m\u001b[1;33m\u001b[0m\u001b[0m\n\u001b[0m\u001b[0;32m    221\u001b[0m \u001b[1;33m\u001b[0m\u001b[0m\n\u001b[0;32m    222\u001b[0m         \u001b[1;31m# Initialise byte-aligned arrays for pyfftw\u001b[0m\u001b[1;33m\u001b[0m\u001b[1;33m\u001b[0m\u001b[1;33m\u001b[0m\u001b[0m\n",
      "\u001b[1;32m~\\Anaconda3\\envs\\kuroki-lab\\lib\\site-packages\\sporco\\linalg.py\u001b[0m in \u001b[0;36mrfftn\u001b[1;34m(a, s, axes)\u001b[0m\n\u001b[0;32m    252\u001b[0m     return pyfftw.interfaces.numpy_fft.rfftn(\n\u001b[0;32m    253\u001b[0m         \u001b[0ma\u001b[0m\u001b[1;33m,\u001b[0m \u001b[0ms\u001b[0m\u001b[1;33m=\u001b[0m\u001b[0ms\u001b[0m\u001b[1;33m,\u001b[0m \u001b[0maxes\u001b[0m\u001b[1;33m=\u001b[0m\u001b[0maxes\u001b[0m\u001b[1;33m,\u001b[0m \u001b[0moverwrite_input\u001b[0m\u001b[1;33m=\u001b[0m\u001b[1;32mFalse\u001b[0m\u001b[1;33m,\u001b[0m\u001b[1;33m\u001b[0m\u001b[1;33m\u001b[0m\u001b[0m\n\u001b[1;32m--&gt; 254\u001b[1;33m         planner_effort=&#39;FFTW_MEASURE&#39;, threads=pyfftw_threads)\n\u001b[0m\u001b[0;32m    255\u001b[0m \u001b[1;33m\u001b[0m\u001b[0m\n\u001b[0;32m    256\u001b[0m \u001b[1;33m\u001b[0m\u001b[0m\n",
      "\u001b[1;32m~\\Anaconda3\\envs\\kuroki-lab\\lib\\site-packages\\pyfftw\\interfaces\\numpy_fft.py\u001b[0m in \u001b[0;36mrfftn\u001b[1;34m(a, s, axes, norm, overwrite_input, planner_effort, threads, auto_align_input, auto_contiguous)\u001b[0m\n\u001b[0;32m    275\u001b[0m     return _Xfftn(a, s, axes, overwrite_input, planner_effort,\n\u001b[0;32m    276\u001b[0m             \u001b[0mthreads\u001b[0m\u001b[1;33m,\u001b[0m \u001b[0mauto_align_input\u001b[0m\u001b[1;33m,\u001b[0m \u001b[0mauto_contiguous\u001b[0m\u001b[1;33m,\u001b[0m\u001b[1;33m\u001b[0m\u001b[1;33m\u001b[0m\u001b[0m\n\u001b[1;32m--&gt; 277\u001b[1;33m             calling_func, **_norm_args(norm))\n\u001b[0m\u001b[0;32m    278\u001b[0m \u001b[1;33m\u001b[0m\u001b[0m\n\u001b[0;32m    279\u001b[0m \u001b[1;33m\u001b[0m\u001b[0m\n",
      "\u001b[1;32m~\\Anaconda3\\envs\\kuroki-lab\\lib\\site-packages\\pyfftw\\interfaces\\_utils.py\u001b[0m in \u001b[0;36m_Xfftn\u001b[1;34m(a, s, axes, overwrite_input, planner_effort, threads, auto_align_input, auto_contiguous, calling_func, normalise_idft, ortho)\u001b[0m\n\u001b[0;32m    122\u001b[0m         \u001b[1;31m# input array will be destroyed during planning).\u001b[0m\u001b[1;33m\u001b[0m\u001b[1;33m\u001b[0m\u001b[1;33m\u001b[0m\u001b[0m\n\u001b[0;32m    123\u001b[0m         \u001b[1;32mif\u001b[0m \u001b[1;32mnot\u001b[0m \u001b[0mwork_with_copy\u001b[0m\u001b[1;33m:\u001b[0m\u001b[1;33m\u001b[0m\u001b[1;33m\u001b[0m\u001b[0m\n\u001b[1;32m--&gt; 124\u001b[1;33m             \u001b[0ma_copy\u001b[0m \u001b[1;33m=\u001b[0m \u001b[0ma\u001b[0m\u001b[1;33m.\u001b[0m\u001b[0mcopy\u001b[0m\u001b[1;33m(\u001b[0m\u001b[1;33m)\u001b[0m\u001b[1;33m\u001b[0m\u001b[1;33m\u001b[0m\u001b[0m\n\u001b[0m\u001b[0;32m    125\u001b[0m \u001b[1;33m\u001b[0m\u001b[0m\n\u001b[0;32m    126\u001b[0m         \u001b[0mplanner_args\u001b[0m \u001b[1;33m=\u001b[0m \u001b[1;33m(\u001b[0m\u001b[0ma\u001b[0m\u001b[1;33m,\u001b[0m \u001b[0ms\u001b[0m\u001b[1;33m,\u001b[0m \u001b[0maxes\u001b[0m\u001b[1;33m)\u001b[0m \u001b[1;33m+\u001b[0m \u001b[0margs\u001b[0m\u001b[1;33m\u001b[0m\u001b[1;33m\u001b[0m\u001b[0m\n",
      "\u001b[1;31mKeyboardInterrupt\u001b[0m: "
     ]
    }
   ],
   "source": [
    "import mycbpdndl\n",
    "\n",
    "# 辞書の初期化\n",
    "np.random.seed(1)\n",
    "D0 = np.random.randn(11, 11, 6, 10)\n",
    "dsz = ((4, 4, 6, 5), (11, 11, 6, 5))\n",
    "# cri = cr.CSC_ConvRepIndexing(D0, S)\n",
    "\n",
    "# 設定\n",
    "lmbda = 0.5\n",
    "opt = mycbpdndl.ConvBPDNDictLearn.Options({'Verbose': True, 'MaxMainIter': 1000, 'DictSize': dsz,\n",
    "                            'CBPDN': {'rho': 50.0*lmbda + 0.5, 'NonNegCoef': True, 'RelStopTol': 1e-3, 'HighMemSolve': True, 'FastSolve': False},\n",
    "                            'CCMOD': {'ZeroMean': True}},\n",
    "                            dmethod='cns')\n",
    "S = subtract_mean(train_img)\n",
    "d = mycbpdndl.ConvBPDNDictLearn(D0, X1.transpose(0, 1, 3, 2), lmbda, opt)\n",
    "\n",
    "D2 = d.solve()"
   ]
  },
  {
   "cell_type": "code",
   "execution_count": 12,
   "metadata": {
    "tags": []
   },
   "outputs": [
    {
     "output_type": "stream",
     "name": "stdout",
     "text": "(11, 11, 6, 1, 10)\n(32, 32, 6, 1488, 10)\n"
    }
   ],
   "source": [
    "D2 = d.getdict()\n",
    "X2 = d.getcoef().squeeze()\n",
    "print(D2.shape)\n",
    "print(X2.shape)"
   ]
  },
  {
   "cell_type": "code",
   "execution_count": 3,
   "metadata": {},
   "outputs": [
    {
     "output_type": "error",
     "ename": "ModuleNotFoundError",
     "evalue": "No module named &#39;cv2.cv2&#39;",
     "traceback": [
      "\u001b[1;31m---------------------------------------------------------------------------\u001b[0m",
      "\u001b[1;31mModuleNotFoundError\u001b[0m                       Traceback (most recent call last)",
      "\u001b[1;32m&lt;ipython-input-3-9e0f79900bfb&gt;\u001b[0m in \u001b[0;36m&lt;module&gt;\u001b[1;34m\u001b[0m\n\u001b[0;32m      6\u001b[0m \u001b[1;31m#from load_dataset import load_mnist_test, load_mnist_train\u001b[0m\u001b[1;33m\u001b[0m\u001b[1;33m\u001b[0m\u001b[1;33m\u001b[0m\u001b[0m\n\u001b[0;32m      7\u001b[0m \u001b[1;31m#from load_dataset import load_fashion_test, load_fashion_train\u001b[0m\u001b[1;33m\u001b[0m\u001b[1;33m\u001b[0m\u001b[1;33m\u001b[0m\u001b[0m\n\u001b[1;32m----&gt; 8\u001b[1;33m \u001b[1;32mimport\u001b[0m \u001b[0mload_dataset\u001b[0m \u001b[1;32mas\u001b[0m \u001b[0mdata\u001b[0m\u001b[1;33m\u001b[0m\u001b[1;33m\u001b[0m\u001b[0m\n\u001b[0m\u001b[0;32m      9\u001b[0m \u001b[1;31m#from conduct_svm import svm\u001b[0m\u001b[1;33m\u001b[0m\u001b[1;33m\u001b[0m\u001b[1;33m\u001b[0m\u001b[0m\n\u001b[0;32m     10\u001b[0m \u001b[1;32mimport\u001b[0m \u001b[0mConvert\u001b[0m \u001b[1;32mas\u001b[0m \u001b[0mcon\u001b[0m\u001b[1;33m\u001b[0m\u001b[1;33m\u001b[0m\u001b[0m\n",
      "\u001b[1;32mc:\\Users\\hibana\\Downloads\\2020_takanashi\\load_dataset.py\u001b[0m in \u001b[0;36m&lt;module&gt;\u001b[1;34m\u001b[0m\n\u001b[0;32m      3\u001b[0m \u001b[1;33m\u001b[0m\u001b[0m\n\u001b[0;32m      4\u001b[0m \u001b[1;32mimport\u001b[0m \u001b[0mnumpy\u001b[0m \u001b[1;32mas\u001b[0m \u001b[0mnp\u001b[0m\u001b[1;33m\u001b[0m\u001b[1;33m\u001b[0m\u001b[0m\n\u001b[1;32m----&gt; 5\u001b[1;33m \u001b[1;32mimport\u001b[0m \u001b[0mcv2\u001b[0m\u001b[1;33m\u001b[0m\u001b[1;33m\u001b[0m\u001b[0m\n\u001b[0m\u001b[0;32m      6\u001b[0m \u001b[1;32mfrom\u001b[0m \u001b[0mtorchvision\u001b[0m \u001b[1;32mimport\u001b[0m \u001b[0mdatasets\u001b[0m\u001b[1;33m\u001b[0m\u001b[1;33m\u001b[0m\u001b[0m\n\u001b[0;32m      7\u001b[0m \u001b[1;33m\u001b[0m\u001b[0m\n",
      "\u001b[1;32m~\\Anaconda3\\envs\\test\\lib\\site-packages\\cv2\\__init__.py\u001b[0m in \u001b[0;36m&lt;module&gt;\u001b[1;34m\u001b[0m\n\u001b[0;32m      3\u001b[0m \u001b[1;32mimport\u001b[0m \u001b[0msys\u001b[0m\u001b[1;33m\u001b[0m\u001b[1;33m\u001b[0m\u001b[0m\n\u001b[0;32m      4\u001b[0m \u001b[1;33m\u001b[0m\u001b[0m\n\u001b[1;32m----&gt; 5\u001b[1;33m \u001b[1;32mfrom\u001b[0m \u001b[1;33m.\u001b[0m\u001b[0mcv2\u001b[0m \u001b[1;32mimport\u001b[0m \u001b[1;33m*\u001b[0m\u001b[1;33m\u001b[0m\u001b[1;33m\u001b[0m\u001b[0m\n\u001b[0m\u001b[0;32m      6\u001b[0m \u001b[1;32mfrom\u001b[0m \u001b[1;33m.\u001b[0m\u001b[0mdata\u001b[0m \u001b[1;32mimport\u001b[0m \u001b[1;33m*\u001b[0m\u001b[1;33m\u001b[0m\u001b[1;33m\u001b[0m\u001b[0m\n\u001b[0;32m      7\u001b[0m \u001b[1;33m\u001b[0m\u001b[0m\n",
      "\u001b[1;31mModuleNotFoundError\u001b[0m: No module named &#39;cv2.cv2&#39;"
     ]
    }
   ],
   "source": [
    "#!/usr/bin/env python3\n",
    "# -*- coding: utf-8 -*-\n",
    "\n",
    "import numpy as np\n",
    "import time\n",
    "#from load_dataset import load_mnist_test, load_mnist_train\n",
    "#from load_dataset import load_fashion_test, load_fashion_train\n",
    "import load_dataset as data\n",
    "#from conduct_svm import svm\n",
    "import Convert as con\n",
    "import ConvDL as cdl\n",
    "import conduct_svm as svm\n",
    "import conduct_pooling as cp\n",
    "import output as op\n",
    "import random\n",
    "\n",
    "\n",
    "#実験のオプションを設定\n",
    "def powerspectrum(A):\n",
    "    \n",
    "    return np.abs(np.fft.fftshift(np.fft.fft2(A)))\n",
    "\n",
    "\n",
    "def make_option():\n",
    "    opt = {}\n",
    "    # 訓練画像の枚数\n",
    "    opt['train_amount'] = [200]\n",
    "    #opt['train_amount'] = [50, 100]\n",
    "    # テスト画像の枚数\n",
    "    opt['test_amount'] = 500\n",
    "    # 最大繰り返し回数\n",
    "    opt['iteration'] = [1, 100, 3]\n",
    "    # 更新終了の閾値\n",
    "    opt['thr'] = 0.001\n",
    "    #学習の層の数\n",
    "    opt['Learning'] = 2\n",
    "    #フィルターのサイズ\n",
    "    opt['d1_size, d2_size'] = [4, 14]\n",
    "    #フィルターの数\n",
    "    opt['d_amount'] = [4, 4]\n",
    "    #パラメータ設定\n",
    "    opt['rho_coef'] = 0.2\n",
    "    opt['rho_dic_conventional'] = 100.0 #係数の射影\n",
    "    opt['rho_dic_propposed'] = 0.1 #係数の射影\n",
    "    opt['mu'] = 1e-05 #勾配法\n",
    "    opt['gamma_conventional'] = 1.0  #近似誤差(L1)\n",
    "    opt['gamma_propposed'] = 1.0 #近似誤差(L1)\n",
    "    #実験結果の保存先\n",
    "    opt['file_path'] = 'C:\\\\CDL\\\\result'\n",
    "    return opt\n",
    "print(\"start\")\n",
    "opt = make_option() \n",
    "\n",
    "roop = [1]\n",
    "    \n",
    "    \n",
    "for seed in range(20,100):\n",
    "            \n",
    "    #辞書の初期値設定\n",
    "    def dictionary_set(learning, d_size, d_amount):\n",
    "        D = []\n",
    "        for i in range(learning):\n",
    "            np.random.seed(seed=seed)\n",
    "            D.append(np.random.normal(0, 1, (d_size[i], d_size[i], d_amount[i])))\n",
    "        return D\n",
    "\n",
    "\n",
    "    Learned_D1 = []\n",
    "    Learned_D2 = []\n",
    "\n",
    "    D0 = dictionary_set(opt['Learning'], opt['d1_size, d2_size'], opt['d_amount'])\n",
    "    op.output_Image(0, D0, 'Initial_Dictionary', opt['file_path'])\n",
    "\n",
    "    print(D0[0].shape)\n",
    "    print(opt)\n",
    "\n",
    "    fname = 'result_conventional.txt'\n",
    "    #fname = 'result_proposed.txt'\n",
    "\n",
    "    for train_amount in opt['train_amount']:\n",
    "        #opt['rho_coef'] = train_amount * 0.001\n",
    "\n",
    "        #train_data, train_label = load_mnist_train(train_amount)\n",
    "        #test_data, test_label = load_mnist_test(opt[\"test_amount\"])\n",
    "\n",
    "        train_data, train_label = data.load_fashion_train(train_amount)\n",
    "        test_data, test_label = data.load_fashion_test(opt[\"test_amount\"])\n",
    "\n",
    "        '''for i in range(int(train_amount/100)):\n",
    "            outlier = random.randrange(0, train_amount, 1)\n",
    "            train_data[outlier] = 0'''\n",
    "\n",
    "        train_data = train_data.transpose(1,2,0)\n",
    "        test_data = test_data.transpose(1,2,0)\n",
    "        op.output_Image(3, train_data, 'Fashion-MNIST', opt['file_path'])\n",
    "\n",
    "        print(\"\\nTrain data: \" + str(train_amount) + \"\\n\")\n",
    "\n",
    "        time_start = time.time()\n",
    "\n",
    "        #print(\"\\n[gamma: %1.2f, rho_dic: %1.2f, mu: %1.2f]\" % (opt['gamma_conventional'], opt['rho_dic_conventional'], opt['mu']))\n",
    "        #print(\"\\n[rho_coef: %1.2f, rho_dic: %1.2f, mu: %1.2f, gamma: %1.2f]\" % (opt['rho_coef'], opt['rho_dic_propposed'], opt['mu'], opt['gamma']))\n",
    "\n",
    "        #D1, X1, L0_1 = cdl.coef_dic_update_L2_L0(opt['gamma_conventional'], opt['rho_dic_conventional'], opt['mu'], train_data, D0[0], opt['iteration'], opt['thr'], 'Layer1')            \n",
    "        D1, X1, L0_1 = cdl.coef_dic_update_L1_L0(opt['rho_coef'], opt['rho_dic_propposed'], opt['mu'], opt['gamma_propposed'], train_data, D0[0], opt['iteration'], opt['thr'], 'Layer1')\n",
    "        if(L0_1 == 0):\n",
    "            continue\n",
    "        \n",
    "        X1 = X1.transpose(2,3,0,1)\n",
    "        Xp1 = cp.pooling_layer(X1, train_amount,32)\n",
    "        Xe1 = np.zeros((train_amount,14,14))\n",
    "        for i in range(train_amount):\n",
    "            Xe1[i,:,:] = np.abs(np.fft.fftshift(np.fft.fft2(Xp1[i,:,:])))[6:20,6:20]\n",
    "        Xe1 = Xe1.transpose(1, 2, 0)\n",
    "        \n",
    "        \n",
    "\n",
    "        #D2, X2, L0_2 = cdl.coef_dic_update_L2_L0(opt['gamma_conventional'], opt['rho_dic_conventional'], opt['mu'], Xp1, D0[1], opt['iteration'], opt['thr'], 'Layer2')\n",
    "        D2, X2, L0_2 = cdl.coef_dic_update_L1_L0(opt['rho_coef'], opt['rho_dic_propposed'], opt['mu'], opt['gamma_propposed'], Xe1, D0[1], opt['iteration'], opt['thr'], 'Layer2')\n",
    "        if(L0_2 == 0):\n",
    "            continue\n",
    "\n",
    "        #np.save(\"train_amount:\"+str(train_amount)+\" \"+str(seed)+\"_D1\",D1)\n",
    "        #np.save(\"train_amount:\"+str(train_amount)+\" \"+str(seed)+\"_D2\",D2)\n",
    "\n",
    "        #train_F1, L0_train1 = cdl.feature_extraction_L2_L0(opt['gamma_conventional'], opt['mu'], train_data, D1, opt['iteration'], opt['thr'], 'Feature1')\n",
    "        train_F1, L0_train1 = cdl.feature_extraction_L1_L0(opt['rho_coef'], opt['gamma_propposed'], opt['mu'], train_data, D1, opt['iteration'], opt['thr'], 'Feature1')\n",
    "        if(L0_train1 == 0):\n",
    "            continue\n",
    "        train_F1 = train_F1.transpose(2,3,0,1)\n",
    "        train_F1_P = cp.pooling_layer(train_F1, train_amount,32)\n",
    "        train_F1_E = np.zeros((train_amount,14,14))\n",
    "        for i in range(train_amount):\n",
    "            train_F1_E[i,:,:] = np.abs(np.fft.fftshift(np.fft.fft2(train_F1_P[i,:,:])))[6:20,6:20]\n",
    "        train_F1_E = train_F1_E.transpose(1, 2, 0)\n",
    "\n",
    "        #train_F2, L0_train2 = cdl.feature_extraction_L2_L0(opt['gamma_conventional'], opt['mu'], train_F1_P, D2, opt['iteration'], opt['thr'], 'Feature2')\n",
    "        train_F2, L0_train2 = cdl.feature_extraction_L1_L0(opt['rho_coef'], opt['gamma_propposed'], opt['mu'], train_F1_E, D2, opt['iteration'], opt['thr'], 'Feature2')\n",
    "        if(L0_train2 == 0):\n",
    "            continue\n",
    "\n",
    "        train_F2 = train_F2.transpose(2, 3, 0, 1)\n",
    "        train_F2_P = cp.pooling_layer(train_F2, train_amount,14)\n",
    "        train_F2_E = np.zeros((train_amount,4,4))\n",
    "        for i in range(train_amount):\n",
    "            train_F2_E[i,:,:] = np.abs(np.fft.fftshift(np.fft.fft2(train_F2_P[i,:,:])))[5:9,5:9]\n",
    "        \n",
    "        train_F2_E = train_F2_E.reshape(train_amount,-1)\n",
    "        #train_F2 = train_F2.transpose(0,1,3,2)\n",
    "        #train_F2 = train_F2.reshape(-1,train_F2.shape[3])\n",
    "\n",
    "        clf = svm.train_svm(train_F2_E, train_label)\n",
    "\n",
    "        #test_F1, L0_test1 = cdl.feature_extraction_L2_L0(opt['gamma_conventional'], opt['mu'], test_data, D1, opt['iteration'], opt['thr'], 'Feature1')\n",
    "        test_F1, L0_test1 = cdl.feature_extraction_L1_L0(opt['rho_coef'], opt['gamma_propposed'], opt['mu'], test_data, D1, opt['iteration'], opt['thr'], 'Feature1')\n",
    "        if(L0_test1 == 0):\n",
    "            continue\n",
    "\n",
    "        test_F1 = test_F1.transpose(2, 3, 0, 1)\n",
    "        test_F1_P = cp.pooling_layer(test_F1, opt['test_amount'],32)\n",
    "        test_F1_E = np.zeros((opt['test_amount'],14,14))\n",
    "        for i in range(opt['test_amount']):\n",
    "             test_F1_E[i,:,:] = np.abs(np.fft.fftshift(np.fft.fft2(test_F1_P[i,:,:])))[6:20,6:20]\n",
    "        test_F1_E = test_F1_E.transpose(1, 2, 0)\n",
    "\n",
    "        #test_F2, L0_test2 = cdl.feature_extraction_L2_L0(opt['rho_coef'], opt['mu'], test_F1_P, D2, opt['iteration'], opt['thr'], 'Feature2')\n",
    "        test_F2, L0_test2 = cdl.feature_extraction_L1_L0(opt['rho_coef'], opt['gamma_propposed'], opt['mu'], test_F1_E, D2, opt['iteration'], opt['thr'], 'Feature2')\n",
    "        if(L0_test2 == 0):\n",
    "            continue\n",
    "\n",
    "        test_F2 = test_F2.transpose(2, 3, 0, 1)\n",
    "        test_F2_P = cp.pooling_layer(test_F2, opt['test_amount'],14)\n",
    "        test_F2_E = np.zeros((opt['test_amount'],4,4))\n",
    "        for i in range(opt['test_amount']):\n",
    "            test_F2_E[i,:,:] = np.abs(np.fft.fftshift(np.fft.fft2(test_F2_P[i,:,:])))[5:9,5:9]\n",
    "        test_F2_E = test_F2_E.reshape(opt['test_amount'],-1)\n",
    "\n",
    "        #test_F2 = test_F2.transpose(0,1,3,2)\n",
    "        #test_F2 = test_F2.reshape(-1,test_F2.shape[3])\n",
    "\n",
    "        accuracy = svm.test_svm(clf, test_F2_E, test_label)\n",
    "\n",
    "        time_end = time.time()\n",
    "\n",
    "        print(\"accuracy: %1.3f\" % accuracy)\n",
    "        print(\"solve time: %.2fs\\n\" % (time_end-time_start))\n",
    "\n",
    "        Learned_D1.append(D1)\n",
    "        Learned_D2.append(D2)\n",
    "\n",
    "        #op.output_Text_conventional(fname, train_amount, accuracy, opt['d_amount'], opt['gamma_conventional'], opt['rho_dic_conventional'], opt['mu'], train_F1.size, train_F2.size, test_F1.size, test_F2.size, L0_train1, L0_train2, L0_test1, L0_test2, opt['file_path'])\n",
    "        #op.output_Text_proposed(fname, train_amount, accuracy, opt['d_amount'], opt['rho_coef'], opt['rho_dic_propposed'], opt['mu'], opt['gamma'], train_F1.size, train_F2.size, test_F1.size, test_F2.size, L0_train1, L0_train2, L0_test1, L0_test2, opt['file_path'])\n",
    "\n",
    "        with open(\"result.txt\",mode = 'a')  as  f:\n",
    "            f.write(\"\\n\")\n",
    "            f.write(\"制約なし　プーリング＋パワースペクトル(2)+cut high frewuency14+4(2)\\n\")\n",
    "            f.write(str(opt)+\"\\n\")\n",
    "            f.write(str(train_amount)+\"　\"+str(seed)+\"\\n\")\n",
    "            f.write(\"score：\"+str(accuracy)+\"\\n\")\n",
    "            f.write(\"\\n\")\n",
    "\n",
    "    #op.output_Image(1, Learned_D1, 'Learned_Dictionary_Conventional(Layer1)', opt['file_path'])\n",
    "    #op.output_Image(2, Learned_D2, 'Learned_Dictionary_Conventional(Layer2)', opt['file_path'])\n",
    "    #op.output_Image(1, Learned_D1, 'Learned_Dictionary_Proposed(Layer1)', opt['file_path'])\n",
    "    #op.output_Image(2, Learned_D2, 'Learned_Dictionary_Proposed(Layer2)', opt['file_path'])\n",
    "    Learned_D1.clear()\n",
    "    Learned_D2.clear()\n",
    "\n",
    "\n"
   ]
  },
  {
   "cell_type": "code",
   "execution_count": null,
   "metadata": {},
   "outputs": [],
   "source": []
  }
 ],
 "metadata": {
  "kernelspec": {
   "display_name": "Python 3.7.9 64-bit ('kuroki-lab': conda)",
   "language": "python",
   "name": "python37964bitkurokilabconda90897079883b4bce9ac882c260bdf11b"
  },
  "language_info": {
   "codemirror_mode": {
    "name": "ipython",
    "version": 3
   },
   "file_extension": ".py",
   "mimetype": "text/x-python",
   "name": "python",
   "nbconvert_exporter": "python",
   "pygments_lexer": "ipython3",
   "version": "3.7.9-final"
  },
  "varInspector": {
   "cols": {
    "lenName": 16,
    "lenType": 16,
    "lenVar": 40
   },
   "kernels_config": {
    "python": {
     "delete_cmd_postfix": "",
     "delete_cmd_prefix": "del ",
     "library": "var_list.py",
     "varRefreshCmd": "print(var_dic_list())"
    },
    "r": {
     "delete_cmd_postfix": ") ",
     "delete_cmd_prefix": "rm(",
     "library": "var_list.r",
     "varRefreshCmd": "cat(var_dic_list()) "
    }
   },
   "oldHeight": 455.85,
   "position": {
    "height": "477.85px",
    "left": "1068px",
    "right": "20px",
    "top": "120px",
    "width": "350px"
   },
   "types_to_exclude": [
    "module",
    "function",
    "builtin_function_or_method",
    "instance",
    "_Feature"
   ],
   "varInspector_section_display": "block",
   "window_display": false
  }
 },
 "nbformat": 4,
 "nbformat_minor": 4
}